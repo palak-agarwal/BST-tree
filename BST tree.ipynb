{
 "cells": [
  {
   "cell_type": "code",
   "execution_count": 286,
   "metadata": {},
   "outputs": [],
   "source": [
    "#linked list\n",
    "class node:\n",
    "    def __init__(self,data):\n",
    "        self.data = data\n",
    "        self.nextnode = None\n",
    "        \n",
    "class linked_list:\n",
    "    def __init__(self):\n",
    "        self.head = None\n",
    "#inserting in the begining\n",
    "    def node_begining(self, newdata):\n",
    "        list2 = node(newdata)\n",
    "        list2.nextnode  = self.head\n",
    "        self.head = list2\n",
    "    def listprint(self):\n",
    "        printf = self.head\n",
    "        while printf is not None:\n",
    "            print(printf.data)\n",
    "            printf = printf.nextnode\n",
    "#inserting in the end\n",
    "    def node_end(self,newdata):\n",
    "        list3 = node(newdata)\n",
    "        prev = self.head\n",
    "        while prev is not None:\n",
    "            prev2 = prev\n",
    "            prev = prev.nextnode\n",
    "        prev2.nextnode = list3\n",
    "#searching\n",
    "    def search(self,target):\n",
    "        check = self.head\n",
    "        idx = 1\n",
    "        while check is not None:\n",
    "            if check.data == target:\n",
    "                print(idx)\n",
    "                break\n",
    "            else: \n",
    "                check = check.nextnode\n",
    "                idx = idx+1"
   ]
  },
  {
   "cell_type": "code",
   "execution_count": 287,
   "metadata": {},
   "outputs": [
    {
     "name": "stdout",
     "output_type": "stream",
     "text": [
      "20\n",
      "10\n",
      "30\n",
      "3\n"
     ]
    }
   ],
   "source": [
    "if __name__ == '__main__':\n",
    "    list1 = linked_list()\n",
    "    list1.node_begining(10);\n",
    "    list1.node_begining(20);\n",
    "    list1.node_end(30)\n",
    "    list1.listprint()\n",
    "    list1.search(30)"
   ]
  },
  {
   "cell_type": "code",
   "execution_count": 1,
   "metadata": {},
   "outputs": [],
   "source": [
    "#stack\n",
    "class Stack:\n",
    "    top = -1\n",
    "    mylist = []\n",
    "    def __init__(self,sizeofstack):\n",
    "        self.n = sizeofstack\n",
    "        \n",
    "    def Push(self,pushelement):\n",
    "        if self.top >= self.n-1:\n",
    "            print(\"Stack is full\")\n",
    "        else:\n",
    "            self.mylist.insert(self.top+1,pushelement)\n",
    "            self.top = self.top+1\n",
    "            print(self.mylist)\n",
    "            \n",
    "    def Pop(self):\n",
    "        print(self.top)\n",
    "        if self.top == -1:\n",
    "            print(\"stack is empty\")\n",
    "        else:\n",
    "            d = self.mylist[self.top]\n",
    "            self.mylist.pop(self.top)\n",
    "            self.top = self.top-1\n",
    "            print(self.mylist)\n",
    "            return(d)\n",
    "        \n",
    "    def empty(self):\n",
    "        if self.top == -1:\n",
    "            return(True)\n",
    "        else:\n",
    "            return(False)\n",
    "            \n",
    "    def size(self):\n",
    "        return(self.top)\n",
    "    \n",
    "    def topvalue(self):\n",
    "        return(self.top)"
   ]
  },
  {
   "cell_type": "code",
   "execution_count": 2,
   "metadata": {},
   "outputs": [
    {
     "name": "stdout",
     "output_type": "stream",
     "text": [
      "[80]\n",
      "[80, 70]\n",
      "[80, 70, 60]\n",
      "[80, 70, 60, 50]\n",
      "[80, 70, 60, 50, 40]\n",
      "Stack is full\n",
      "for pop\n",
      "4\n",
      "[80, 70, 60, 50]\n",
      "False\n",
      "3\n",
      "3\n"
     ]
    }
   ],
   "source": [
    "x = Stack(5)\n",
    "x.Push(80)\n",
    "x.Push(70)\n",
    "x.Push(60)\n",
    "x.Push(50)\n",
    "x.Push(40)\n",
    "x.Push(30)\n",
    "print(\"for pop\")\n",
    "x.Pop()\n",
    "print(x.empty())\n",
    "print(x.size())\n",
    "print(x.topvalue())"
   ]
  },
  {
   "cell_type": "code",
   "execution_count": 305,
   "metadata": {},
   "outputs": [],
   "source": [
    "#queues\n",
    "class queue:\n",
    "    front = -1\n",
    "    rear = -1\n",
    "    mylist = []\n",
    "    \n",
    "    def __init__(self,queuesize):\n",
    "        self.n = queuesize\n",
    "        \n",
    "    def enqueue(self,addelement):\n",
    "        if self.front == 0 and self.rear == self.n-1:\n",
    "            print(\"queue is full\")\n",
    "        else:\n",
    "            if self.front == -1:\n",
    "                self.front = 0\n",
    "                self.rear = self.rear+1\n",
    "                self.mylist.insert(self.rear,addelement)\n",
    "#                 print(self.mylist)\n",
    "#                 print(self.front)\n",
    "#                 print(self.rear)\n",
    "            else:\n",
    "                self.rear = self.rear+1\n",
    "                self.mylist.insert(self.rear,addelement)\n",
    "#                 print(self.mylist)\n",
    "#                 print(self.front)\n",
    "#                 print(self.rear)\n",
    "                \n",
    "    def dequeue(self):\n",
    "        if self.front == -1 and self.rear == -1:\n",
    "            print(\"queue is empty\")\n",
    "        else:\n",
    "            if self.front != self.rear:\n",
    "#                 print(self.front)\n",
    "#                 print(self.rear)\n",
    "                d = self.mylist[self.front]\n",
    "                self.mylist.pop(self.front)\n",
    "                #self.front = self.front+1\n",
    "                self.rear = self.rear-1\n",
    "#                 print(\"my bastard is :%d\", d)\n",
    "#                 print(self.mylist)\n",
    "                return(d)\n",
    "            else:\n",
    "                d = self.mylist[self.front]\n",
    "                self.mylist.pop(self.front)\n",
    "                self.front = -1\n",
    "                self.rear = -1\n",
    "#                 print(\"i dequeqed this bastard :%d\", d)\n",
    "                return(d)\n",
    "        \n",
    "    def empty1(self):\n",
    "        if self.front == -1 and self.rear == -1:\n",
    "            print(\"queue is empty\")\n",
    "            return(True)\n",
    "        else:\n",
    "            return(False)"
   ]
  },
  {
   "cell_type": "code",
   "execution_count": 306,
   "metadata": {},
   "outputs": [
    {
     "name": "stdout",
     "output_type": "stream",
     "text": [
      "queue is full\n",
      "dequeue\n",
      "queue is empty\n"
     ]
    }
   ],
   "source": [
    "x = queue(5)\n",
    "x.enqueue(10)\n",
    "x.enqueue(20)\n",
    "x.enqueue(30)\n",
    "x.enqueue(40)\n",
    "x.enqueue(50)\n",
    "x.enqueue(60)\n",
    "print(\"dequeue\")\n",
    "x.dequeue()\n",
    "x.dequeue()\n",
    "x.dequeue()\n",
    "x.dequeue()\n",
    "x.dequeue()\n",
    "x.dequeue()"
   ]
  },
  {
   "cell_type": "code",
   "execution_count": 303,
   "metadata": {},
   "outputs": [],
   "source": [
    "from ipdb import set_trace"
   ]
  },
  {
   "cell_type": "code",
   "execution_count": 317,
   "metadata": {},
   "outputs": [],
   "source": [
    "#tree\n",
    "class Tree:\n",
    "    root = None\n",
    "    def node(self,data):\n",
    "        self.left = None\n",
    "        self.right = None\n",
    "        self.data = data\n",
    "        \n",
    "    def insert(self,element):\n",
    "        if self.root is None:\n",
    "            self.root = self.node(element)\n",
    "            print(self.root.left)\n",
    "            return()\n",
    "        else:\n",
    "            p = self.root\n",
    "            x = queue(10)\n",
    "            x.enqueue(p)\n",
    "            while x.empty1() == False:\n",
    "                set_trace()\n",
    "                p = x.dequeue()\n",
    "                print(p)\n",
    "                \n",
    "                if p == None:\n",
    "                    p = self.node(element)\n",
    "                elif p.left == None:\n",
    "                    p.left = self.node(element)\n",
    "                elif p.left != None:\n",
    "                    x.enqueue(p.left)\n",
    "                elif p.right == None:\n",
    "                    p.right = self.node(element)\n",
    "                elif p.right != None:\n",
    "                    x.enqueue(root.right)\n",
    "                    \n",
    "    def printtree(self):\n",
    "        p = self.root\n",
    "        y = Stack(10)\n",
    "        y.Push(p)\n",
    "        print(y)\n",
    "        while y.empty() == False:\n",
    "            p = y.Pop()\n",
    "            if p is not None:\n",
    "                print(p.data)\n",
    "                if p.left is not None:\n",
    "                    y.Push(p.left)\n",
    "                    if p.right is not None:\n",
    "                        y.Push(root.right)"
   ]
  },
  {
   "cell_type": "code",
   "execution_count": 318,
   "metadata": {},
   "outputs": [
    {
     "ename": "AttributeError",
     "evalue": "'NoneType' object has no attribute 'left'",
     "output_type": "error",
     "traceback": [
      "\u001b[1;31m---------------------------------------------------------------------------\u001b[0m",
      "\u001b[1;31mAttributeError\u001b[0m                            Traceback (most recent call last)",
      "\u001b[1;32m<ipython-input-318-4a39da7a0937>\u001b[0m in \u001b[0;36m<module>\u001b[1;34m\u001b[0m\n\u001b[0;32m      1\u001b[0m \u001b[0mmytree\u001b[0m \u001b[1;33m=\u001b[0m \u001b[0mTree\u001b[0m\u001b[1;33m(\u001b[0m\u001b[1;33m)\u001b[0m\u001b[1;33m\u001b[0m\u001b[1;33m\u001b[0m\u001b[0m\n\u001b[1;32m----> 2\u001b[1;33m \u001b[0mmytree\u001b[0m\u001b[1;33m.\u001b[0m\u001b[0minsert\u001b[0m\u001b[1;33m(\u001b[0m\u001b[1;36m1\u001b[0m\u001b[1;33m)\u001b[0m\u001b[1;33m\u001b[0m\u001b[1;33m\u001b[0m\u001b[0m\n\u001b[0m\u001b[0;32m      3\u001b[0m \u001b[0mmytree\u001b[0m\u001b[1;33m.\u001b[0m\u001b[0minsert\u001b[0m\u001b[1;33m(\u001b[0m\u001b[1;36m2\u001b[0m\u001b[1;33m)\u001b[0m\u001b[1;33m\u001b[0m\u001b[1;33m\u001b[0m\u001b[0m\n\u001b[0;32m      4\u001b[0m \u001b[0mmytree\u001b[0m\u001b[1;33m.\u001b[0m\u001b[0minsert\u001b[0m\u001b[1;33m(\u001b[0m\u001b[1;36m3\u001b[0m\u001b[1;33m)\u001b[0m\u001b[1;33m\u001b[0m\u001b[1;33m\u001b[0m\u001b[0m\n\u001b[0;32m      5\u001b[0m \u001b[0mmytree\u001b[0m\u001b[1;33m.\u001b[0m\u001b[0minsert\u001b[0m\u001b[1;33m(\u001b[0m\u001b[1;36m4\u001b[0m\u001b[1;33m)\u001b[0m\u001b[1;33m\u001b[0m\u001b[1;33m\u001b[0m\u001b[0m\n",
      "\u001b[1;32m<ipython-input-317-315afdbd23b8>\u001b[0m in \u001b[0;36minsert\u001b[1;34m(self, element)\u001b[0m\n\u001b[0;32m     10\u001b[0m         \u001b[1;32mif\u001b[0m \u001b[0mself\u001b[0m\u001b[1;33m.\u001b[0m\u001b[0mroot\u001b[0m \u001b[1;32mis\u001b[0m \u001b[1;32mNone\u001b[0m\u001b[1;33m:\u001b[0m\u001b[1;33m\u001b[0m\u001b[1;33m\u001b[0m\u001b[0m\n\u001b[0;32m     11\u001b[0m             \u001b[0mself\u001b[0m\u001b[1;33m.\u001b[0m\u001b[0mroot\u001b[0m \u001b[1;33m=\u001b[0m \u001b[0mself\u001b[0m\u001b[1;33m.\u001b[0m\u001b[0mnode\u001b[0m\u001b[1;33m(\u001b[0m\u001b[0melement\u001b[0m\u001b[1;33m)\u001b[0m\u001b[1;33m\u001b[0m\u001b[1;33m\u001b[0m\u001b[0m\n\u001b[1;32m---> 12\u001b[1;33m             \u001b[0mprint\u001b[0m\u001b[1;33m(\u001b[0m\u001b[0mself\u001b[0m\u001b[1;33m.\u001b[0m\u001b[0mroot\u001b[0m\u001b[1;33m.\u001b[0m\u001b[0mleft\u001b[0m\u001b[1;33m)\u001b[0m\u001b[1;33m\u001b[0m\u001b[1;33m\u001b[0m\u001b[0m\n\u001b[0m\u001b[0;32m     13\u001b[0m             \u001b[1;32mreturn\u001b[0m\u001b[1;33m(\u001b[0m\u001b[1;33m)\u001b[0m\u001b[1;33m\u001b[0m\u001b[1;33m\u001b[0m\u001b[0m\n\u001b[0;32m     14\u001b[0m         \u001b[1;32melse\u001b[0m\u001b[1;33m:\u001b[0m\u001b[1;33m\u001b[0m\u001b[1;33m\u001b[0m\u001b[0m\n",
      "\u001b[1;31mAttributeError\u001b[0m: 'NoneType' object has no attribute 'left'"
     ]
    }
   ],
   "source": [
    "mytree = Tree()\n",
    "mytree.insert(1)\n",
    "mytree.insert(2)\n",
    "mytree.insert(3)\n",
    "mytree.insert(4)\n",
    "mytree.insert(5)\n",
    "#mytree.printtree()"
   ]
  },
  {
   "cell_type": "code",
   "execution_count": 295,
   "metadata": {},
   "outputs": [
    {
     "name": "stdout",
     "output_type": "stream",
     "text": [
      "<__main__.Tree object at 0x0000021BCA136248>\n"
     ]
    }
   ],
   "source": [
    "print(mytree)"
   ]
  },
  {
   "cell_type": "code",
   "execution_count": null,
   "metadata": {},
   "outputs": [],
   "source": []
  }
 ],
 "metadata": {
  "kernelspec": {
   "display_name": "Python 3",
   "language": "python",
   "name": "python3"
  },
  "language_info": {
   "codemirror_mode": {
    "name": "ipython",
    "version": 3
   },
   "file_extension": ".py",
   "mimetype": "text/x-python",
   "name": "python",
   "nbconvert_exporter": "python",
   "pygments_lexer": "ipython3",
   "version": "3.7.4"
  }
 },
 "nbformat": 4,
 "nbformat_minor": 2
}
